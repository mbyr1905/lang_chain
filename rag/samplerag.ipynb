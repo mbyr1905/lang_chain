{
 "cells": [
  {
   "cell_type": "code",
   "execution_count": null,
   "id": "538280ac",
   "metadata": {},
   "outputs": [],
   "source": [
    "from langchain_community.document_loaders import TextLoader, pdf\n",
    "loader = TextLoader('speech.txt')\n",
    "doc = loader.load()\n",
    "doc "
   ]
  },
  {
   "cell_type": "code",
   "execution_count": null,
   "id": "ddb25844",
   "metadata": {},
   "outputs": [],
   "source": [
    "## Pdf reader\n",
    "from langchain_community.document_loaders import PyPDFLoader\n",
    "loader=PyPDFLoader('attention.pdf')\n",
    "doc=loader.load()"
   ]
  },
  {
   "cell_type": "code",
   "execution_count": null,
   "id": "f64737b5",
   "metadata": {},
   "outputs": [],
   "source": [
    "# we can use pdf and also web pages to read data source from"
   ]
  },
  {
   "cell_type": "code",
   "execution_count": null,
   "id": "c7a0c1b0",
   "metadata": {},
   "outputs": [],
   "source": [
    "#chunks forming form the data\n",
    "from langchain.text_splitter import RecursiveCharacterTextSplitter\n",
    "text_splitter = RecursiveCharacterTextSplitter(chunk_size=1000, chunk_overlap=200)\n",
    "doc = text_splitter.split_documents(doc)\n",
    "doc"
   ]
  },
  {
   "cell_type": "code",
   "execution_count": null,
   "id": "03dccfda",
   "metadata": {},
   "outputs": [],
   "source": [
    "#vector embeddings and storing the vectr store(chroma, fiass)-> database\n",
    "from langchain_community.embeddings import OllamaEmbeddings\n",
    "from langchain_community.vectorstores import Chroma, FAISS\n",
    "\n",
    "db_chroma = Chroma.from_documents(doc, OllamaEmbeddings())\n",
    "db_fiass = FAISS.from_documents(doc, OllamaEmbeddings())"
   ]
  },
  {
   "cell_type": "code",
   "execution_count": null,
   "id": "010906ae",
   "metadata": {},
   "outputs": [],
   "source": [
    "db_chroma"
   ]
  },
  {
   "cell_type": "code",
   "execution_count": null,
   "id": "64f52b29",
   "metadata": {},
   "outputs": [],
   "source": [
    "db_fiass"
   ]
  },
  {
   "cell_type": "code",
   "execution_count": null,
   "id": "4673f603",
   "metadata": {},
   "outputs": [],
   "source": [
    "query = 'explain me the exact contecnt in the database'\n",
    "result1 = db_chroma.similarity_search(query)\n",
    "result1"
   ]
  },
  {
   "cell_type": "code",
   "execution_count": null,
   "id": "cdd8ec67",
   "metadata": {},
   "outputs": [],
   "source": [
    "query = 'summarise it'\n",
    "result2 = db_fiass.similarity_search(query)\n",
    "result2"
   ]
  },
  {
   "cell_type": "code",
   "execution_count": null,
   "id": "c54a76bc",
   "metadata": {},
   "outputs": [],
   "source": [
    "from langchain_community.llms import Ollama\n",
    "llm = Ollama(model='llama2')\n",
    "llm"
   ]
  },
  {
   "cell_type": "code",
   "execution_count": null,
   "id": "2855488f",
   "metadata": {},
   "outputs": [],
   "source": [
    "from langchain_core.prompts import ChatPromptTemplate\n",
    "prompt = ChatPromptTemplate.from_template(\"\"\"\n",
    "    Answer the following questions based only on the provided context.\n",
    "    think step by step before providing a detailed answer.\n",
    "    I will tip you $1000 if the ser finds the answer helpful.\n",
    "    <context> {context} </context>\n",
    "    Question: {input}\n",
    "\"\"\")"
   ]
  },
  {
   "cell_type": "code",
   "execution_count": null,
   "id": "147ffa0a",
   "metadata": {},
   "outputs": [],
   "source": [
    "#chain \n",
    "from langchain.chains.combine_documents import create_stuff_documents_chain\n",
    "\n",
    "doc_chain=create_stuff_documents_chain(llm,prompt)"
   ]
  },
  {
   "cell_type": "code",
   "execution_count": null,
   "id": "77078e0b",
   "metadata": {},
   "outputs": [],
   "source": [
    "retriever=db_fiass.as_retriever()\n",
    "retriever"
   ]
  },
  {
   "cell_type": "code",
   "execution_count": null,
   "id": "8f60de37",
   "metadata": {},
   "outputs": [],
   "source": [
    "from langchain.chains import create_retrieval_chain\n",
    "retrieval_chain=create_retrieval_chain(retriever,doc_chain)"
   ]
  },
  {
   "cell_type": "code",
   "execution_count": null,
   "id": "9e66b320",
   "metadata": {},
   "outputs": [],
   "source": [
    "response=retrieval_chain.invoke({\"input\":\"Scaled Dot-Product Attention\"})"
   ]
  }
 ],
 "metadata": {
  "kernelspec": {
   "display_name": "Python (venv)",
   "language": "python",
   "name": "venv"
  },
  "language_info": {
   "codemirror_mode": {
    "name": "ipython",
    "version": 3
   },
   "file_extension": ".py",
   "mimetype": "text/x-python",
   "name": "python",
   "nbconvert_exporter": "python",
   "pygments_lexer": "ipython3",
   "version": "3.12.4"
  }
 },
 "nbformat": 4,
 "nbformat_minor": 5
}
